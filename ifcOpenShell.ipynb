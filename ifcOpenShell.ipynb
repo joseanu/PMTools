!python -m pip install --upgrade pip

!pip install toposort
!pip install ifcopenshell==0.7.0.230318
from toposort import toposort_flatten as toposort

import ifcopenshell
dir(ifcopenshell)

file = ifcopenshell.open('file.ifc')
