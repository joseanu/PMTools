{
  "nbformat": 4,
  "nbformat_minor": 0,
  "metadata": {
    "colab": {
      "provenance": [],
      "include_colab_link": true
    },
    "kernelspec": {
      "display_name": "Python 3",
      "language": "python",
      "name": "python3"
    }
  },
  "cells": [
    {
      "cell_type": "markdown",
      "metadata": {
        "id": "view-in-github",
        "colab_type": "text"
      },
      "source": [
        "<a href=\"https://colab.research.google.com/github/joseanu/PMTools/blob/main/mailTrain.ipynb\" target=\"_parent\"><img src=\"https://colab.research.google.com/assets/colab-badge.svg\" alt=\"Open In Colab\"/></a>"
      ]
    },
    {
      "cell_type": "code",
      "source": [
        "from google.colab import drive\n",
        "drive.mount('/gdrive')"
      ],
      "metadata": {
        "colab": {
          "base_uri": "https://localhost:8080/"
        },
        "id": "-4C3hMjEKYwH",
        "outputId": "e9f12ac2-c1f8-4581-d42f-c9e61a6c3f7a"
      },
      "execution_count": 1,
      "outputs": [
        {
          "output_type": "stream",
          "name": "stdout",
          "text": [
            "Mounted at /gdrive\n"
          ]
        }
      ]
    },
    {
      "metadata": {
        "id": "Na3AhPhcLYAB"
      },
      "cell_type": "code",
      "source": [
        "import ast\n",
        "import pandas as pd\n",
        "import numpy as np\n",
        "from sklearn.model_selection import train_test_split\n",
        "from sklearn.preprocessing import LabelEncoder, OneHotEncoder\n",
        "from sklearn.preprocessing import MultiLabelBinarizer\n",
        "from keras.models import Sequential\n",
        "from keras.layers import Dense, Dropout"
      ],
      "execution_count": 13,
      "outputs": []
    },
    {
      "metadata": {
        "id": "v3OtiWoqHmy7"
      },
      "cell_type": "code",
      "source": [
        "data = pd.read_csv('/gdrive/MyDrive/emails.csv')"
      ],
      "execution_count": 8,
      "outputs": []
    },
    {
      "cell_type": "code",
      "source": [
        "# Define a list of labels to keep\n",
        "keep_labels = [\n",
        "    'T/Planos',\n",
        "    'T/Minuta',\n",
        "    'T/Preliminares',\n",
        "    'T/Cliente',\n",
        "    'P/CP',\n",
        "    'T/DocuSign',\n",
        "    'T/Fotos',\n",
        "    'T/BMS',\n",
        "    'T/Gerencia',\n",
        "    'P/MELBA',\n",
        "    'T/Presupuesto',\n",
        "    'T/Elevadores',\n",
        "    'P/VIAVITA',\n",
        "    'T/Pagos',\n",
        "    'P/VDM',\n",
        "    'P/AIP',\n",
        "    'T/IMSS',\n",
        "    'T/Ambiental',\n",
        "    'T/Estructura',\n",
        "    'P/BS',\n",
        "    'T/Carpintería',\n",
        "    'T/Fianzas',\n",
        "    'P/LV',\n",
        "    'T/Reporte',\n",
        "    'T/Tiempo',\n",
        "    'T/Anticipo',\n",
        "    'T/Estimación',\n",
        "    'T/Licitación',\n",
        "    'T/I. Especiales',\n",
        "    'P/ATN',\n",
        "    'T/RFQ',\n",
        "    'P/Oracle',\n",
        "    'T/Topografía',\n",
        "    'T/Cierre',\n",
        "    'P/CC',\n",
        "    'T/RFI',\n",
        "    'P/RET',\n",
        "    'T/Gestión',\n",
        "    'T/I. Hidrosanitarias',\n",
        "    'T/Seguridad',\n",
        "    'T/Paisajismo',\n",
        "    'T/Cancelería',\n",
        "    'T/Tránsito',\n",
        "    'T/Generadores',\n",
        "    'T/Reclutamiento',\n",
        "    'T/Cotización',\n",
        "    'T/Obra Civil',\n",
        "    'T/Contrato',\n",
        "    'T/LEED',\n",
        "    'P/JS',\n",
        "    'T/Alta',\n",
        "    'T/Costo',\n",
        "    'T/I. Eléctricas',\n",
        "    'T/Arquitectura',\n",
        "    'T/BIM',\n",
        "    'T/Legal',\n",
        "    'T/Orden de Cambio',\n",
        "    'T/Laboratorio',\n",
        "    'T/Fachadas',\n",
        "    'P/VR',\n",
        "    'T/Junta',\n",
        "    'T/EMS'\n",
        "]"
      ],
      "metadata": {
        "id": "T6bmk0BJORDT"
      },
      "execution_count": 9,
      "outputs": []
    },
    {
      "cell_type": "code",
      "source": [
        "# Convert the string representation of the list to a Python list\n",
        "data['Labels'] = data['Labels'].apply(lambda x: ast.literal_eval(x))\n",
        "\n",
        "# Filter the labels\n",
        "data['Labels'] = data['Labels'].apply(lambda x: [label for label in x if label in keep_labels])\n",
        "\n",
        "# Remove rows with no labels\n",
        "data = data[data['Labels'].apply(lambda x: len(x) > 0)]"
      ],
      "metadata": {
        "id": "FbeN_QLLOpCh"
      },
      "execution_count": 10,
      "outputs": []
    },
    {
      "cell_type": "code",
      "source": [
        "# Separate the input features and the target variable\n",
        "X = data.drop(\"Labels\", axis=1)\n",
        "\n",
        "# Encode the labels using MultiLabelBinarizer\n",
        "mlb = MultiLabelBinarizer()\n",
        "y = mlb.fit_transform(data['Labels'])\n",
        "\n",
        "# Encode the input features (you may want to use different encoding techniques for different columns)\n",
        "# In this example, we will use label encoding for simplicity\n",
        "X_encoded = X.apply(LabelEncoder().fit_transform)\n",
        "\n",
        "# Split the data into training and testing sets\n",
        "X_train, X_test, y_train, y_test = train_test_split(X_encoded, y, test_size=0.2, random_state=42)"
      ],
      "metadata": {
        "id": "6bvF91BSK9E3"
      },
      "execution_count": 14,
      "outputs": []
    },
    {
      "cell_type": "code",
      "source": [
        "# Create a neural network model\n",
        "model = Sequential()\n",
        "\n",
        "# Add the input layer\n",
        "input_dim = X_train.shape[1]\n",
        "model.add(Dense(32, input_dim=input_dim, activation=\"relu\"))\n",
        "\n",
        "# Add one hidden layer\n",
        "model.add(Dense(64, activation=\"relu\"))\n",
        "\n",
        "# Add dropout to prevent overfitting\n",
        "model.add(Dropout(0.5))\n",
        "\n",
        "# Add the output layer\n",
        "output_dim = y.shape[1]\n",
        "model.add(Dense(output_dim, activation=\"softmax\"))\n",
        "\n",
        "# Compile the model\n",
        "model.compile(loss=\"categorical_crossentropy\", optimizer=\"adam\", metrics=[\"accuracy\"])"
      ],
      "metadata": {
        "id": "h3zyPQ7fLCEo"
      },
      "execution_count": 15,
      "outputs": []
    },
    {
      "cell_type": "code",
      "source": [
        "# Train the model on the training data\n",
        "model.fit(X_train, y_train, epochs=100, batch_size=32, validation_split=0.2)"
      ],
      "metadata": {
        "colab": {
          "base_uri": "https://localhost:8080/"
        },
        "id": "9ktYyEykLUOY",
        "outputId": "6b4cadb5-79b3-4642-b1ac-86273df1855d"
      },
      "execution_count": 16,
      "outputs": [
        {
          "output_type": "stream",
          "name": "stdout",
          "text": [
            "Epoch 1/100\n",
            "116/116 [==============================] - 2s 5ms/step - loss: 1666.0706 - accuracy: 0.1172 - val_loss: 850.8735 - val_accuracy: 0.3661\n",
            "Epoch 2/100\n",
            "116/116 [==============================] - 0s 2ms/step - loss: 3823.2869 - accuracy: 0.1659 - val_loss: 9174.8018 - val_accuracy: 0.3963\n",
            "Epoch 3/100\n",
            "116/116 [==============================] - 0s 3ms/step - loss: 48524.8828 - accuracy: 0.1505 - val_loss: 78781.1172 - val_accuracy: 0.3963\n",
            "Epoch 4/100\n",
            "116/116 [==============================] - 0s 3ms/step - loss: 173615.4219 - accuracy: 0.1429 - val_loss: 224014.8906 - val_accuracy: 0.3963\n",
            "Epoch 5/100\n",
            "116/116 [==============================] - 0s 3ms/step - loss: 328041.1250 - accuracy: 0.1524 - val_loss: 372824.7500 - val_accuracy: 0.3963\n",
            "Epoch 6/100\n",
            "116/116 [==============================] - 0s 3ms/step - loss: 524375.7500 - accuracy: 0.1410 - val_loss: 556917.6250 - val_accuracy: 0.0000e+00\n",
            "Epoch 7/100\n",
            "116/116 [==============================] - 0s 2ms/step - loss: 772404.0625 - accuracy: 0.1386 - val_loss: 816012.3125 - val_accuracy: 0.3963\n",
            "Epoch 8/100\n",
            "116/116 [==============================] - 0s 2ms/step - loss: 1043220.9375 - accuracy: 0.1488 - val_loss: 1115488.6250 - val_accuracy: 0.0000e+00\n",
            "Epoch 9/100\n",
            "116/116 [==============================] - 0s 3ms/step - loss: 1450774.0000 - accuracy: 0.1399 - val_loss: 1453395.1250 - val_accuracy: 0.1577\n",
            "Epoch 10/100\n",
            "116/116 [==============================] - 0s 3ms/step - loss: 1915955.5000 - accuracy: 0.1432 - val_loss: 1888463.3750 - val_accuracy: 0.0983\n",
            "Epoch 11/100\n",
            "116/116 [==============================] - 0s 3ms/step - loss: 2381970.2500 - accuracy: 0.1421 - val_loss: 2438834.2500 - val_accuracy: 0.0000e+00\n",
            "Epoch 12/100\n",
            "116/116 [==============================] - 0s 4ms/step - loss: 2979273.0000 - accuracy: 0.1467 - val_loss: 2962234.0000 - val_accuracy: 0.3963\n",
            "Epoch 13/100\n",
            "116/116 [==============================] - 0s 4ms/step - loss: 3743957.7500 - accuracy: 0.1469 - val_loss: 3578941.0000 - val_accuracy: 0.3963\n",
            "Epoch 14/100\n",
            "116/116 [==============================] - 0s 4ms/step - loss: 4403807.0000 - accuracy: 0.1548 - val_loss: 4255042.5000 - val_accuracy: 0.3963\n",
            "Epoch 15/100\n",
            "116/116 [==============================] - 0s 4ms/step - loss: 5195979.5000 - accuracy: 0.1480 - val_loss: 4836417.0000 - val_accuracy: 0.0832\n",
            "Epoch 16/100\n",
            "116/116 [==============================] - 0s 4ms/step - loss: 6180569.5000 - accuracy: 0.1413 - val_loss: 5608096.0000 - val_accuracy: 0.0832\n",
            "Epoch 17/100\n",
            "116/116 [==============================] - 0s 4ms/step - loss: 6812639.5000 - accuracy: 0.1415 - val_loss: 6737352.5000 - val_accuracy: 0.3963\n",
            "Epoch 18/100\n",
            "116/116 [==============================] - 0s 4ms/step - loss: 8010203.0000 - accuracy: 0.1461 - val_loss: 7483454.5000 - val_accuracy: 0.3963\n",
            "Epoch 19/100\n",
            "116/116 [==============================] - 0s 4ms/step - loss: 8635062.0000 - accuracy: 0.1456 - val_loss: 8321396.5000 - val_accuracy: 0.0000e+00\n",
            "Epoch 20/100\n",
            "116/116 [==============================] - 0s 4ms/step - loss: 10171081.0000 - accuracy: 0.1532 - val_loss: 9448016.0000 - val_accuracy: 0.3963\n",
            "Epoch 21/100\n",
            "116/116 [==============================] - 0s 4ms/step - loss: 11217107.0000 - accuracy: 0.1421 - val_loss: 10548285.0000 - val_accuracy: 0.3963\n",
            "Epoch 22/100\n",
            "116/116 [==============================] - 0s 2ms/step - loss: 12752320.0000 - accuracy: 0.1445 - val_loss: 11632011.0000 - val_accuracy: 0.3963\n",
            "Epoch 23/100\n",
            "116/116 [==============================] - 0s 3ms/step - loss: 14116831.0000 - accuracy: 0.1442 - val_loss: 12827028.0000 - val_accuracy: 0.0832\n",
            "Epoch 24/100\n",
            "116/116 [==============================] - 0s 3ms/step - loss: 15410054.0000 - accuracy: 0.1510 - val_loss: 14457742.0000 - val_accuracy: 0.0000e+00\n",
            "Epoch 25/100\n",
            "116/116 [==============================] - 0s 3ms/step - loss: 17381320.0000 - accuracy: 0.1461 - val_loss: 15510373.0000 - val_accuracy: 0.3963\n",
            "Epoch 26/100\n",
            "116/116 [==============================] - 0s 3ms/step - loss: 18668550.0000 - accuracy: 0.1399 - val_loss: 17317766.0000 - val_accuracy: 0.3963\n",
            "Epoch 27/100\n",
            "116/116 [==============================] - 0s 2ms/step - loss: 20327654.0000 - accuracy: 0.1496 - val_loss: 18815888.0000 - val_accuracy: 0.3963\n",
            "Epoch 28/100\n",
            "116/116 [==============================] - 0s 3ms/step - loss: 22223530.0000 - accuracy: 0.1507 - val_loss: 19921714.0000 - val_accuracy: 0.3963\n",
            "Epoch 29/100\n",
            "116/116 [==============================] - 0s 2ms/step - loss: 24410152.0000 - accuracy: 0.1399 - val_loss: 22272456.0000 - val_accuracy: 0.3963\n",
            "Epoch 30/100\n",
            "116/116 [==============================] - 0s 3ms/step - loss: 26286956.0000 - accuracy: 0.1537 - val_loss: 23754570.0000 - val_accuracy: 0.3963\n",
            "Epoch 31/100\n",
            "116/116 [==============================] - 0s 3ms/step - loss: 28865564.0000 - accuracy: 0.1475 - val_loss: 25242746.0000 - val_accuracy: 0.3963\n",
            "Epoch 32/100\n",
            "116/116 [==============================] - 0s 2ms/step - loss: 29852584.0000 - accuracy: 0.1502 - val_loss: 27500084.0000 - val_accuracy: 0.0011\n",
            "Epoch 33/100\n",
            "116/116 [==============================] - 0s 3ms/step - loss: 31774500.0000 - accuracy: 0.1513 - val_loss: 29571132.0000 - val_accuracy: 0.3963\n",
            "Epoch 34/100\n",
            "116/116 [==============================] - 0s 2ms/step - loss: 34801500.0000 - accuracy: 0.1467 - val_loss: 31103252.0000 - val_accuracy: 0.1026\n",
            "Epoch 35/100\n",
            "116/116 [==============================] - 0s 2ms/step - loss: 36790052.0000 - accuracy: 0.1367 - val_loss: 33513290.0000 - val_accuracy: 0.3963\n",
            "Epoch 36/100\n",
            "116/116 [==============================] - 0s 2ms/step - loss: 40394864.0000 - accuracy: 0.1375 - val_loss: 35542116.0000 - val_accuracy: 0.0000e+00\n",
            "Epoch 37/100\n",
            "116/116 [==============================] - 0s 3ms/step - loss: 42345392.0000 - accuracy: 0.1459 - val_loss: 37594000.0000 - val_accuracy: 0.1026\n",
            "Epoch 38/100\n",
            "116/116 [==============================] - 0s 2ms/step - loss: 45122192.0000 - accuracy: 0.1424 - val_loss: 40272464.0000 - val_accuracy: 0.0983\n",
            "Epoch 39/100\n",
            "116/116 [==============================] - 0s 3ms/step - loss: 47968896.0000 - accuracy: 0.1513 - val_loss: 42275404.0000 - val_accuracy: 0.3963\n",
            "Epoch 40/100\n",
            "116/116 [==============================] - 0s 3ms/step - loss: 50616668.0000 - accuracy: 0.1388 - val_loss: 44712008.0000 - val_accuracy: 0.3963\n",
            "Epoch 41/100\n",
            "116/116 [==============================] - 0s 3ms/step - loss: 52837168.0000 - accuracy: 0.1529 - val_loss: 47384872.0000 - val_accuracy: 0.0011\n",
            "Epoch 42/100\n",
            "116/116 [==============================] - 0s 3ms/step - loss: 55681328.0000 - accuracy: 0.1348 - val_loss: 50432088.0000 - val_accuracy: 0.3963\n",
            "Epoch 43/100\n",
            "116/116 [==============================] - 0s 3ms/step - loss: 59279844.0000 - accuracy: 0.1548 - val_loss: 53291496.0000 - val_accuracy: 0.1577\n",
            "Epoch 44/100\n",
            "116/116 [==============================] - 0s 2ms/step - loss: 62743852.0000 - accuracy: 0.1480 - val_loss: 55762944.0000 - val_accuracy: 0.3963\n",
            "Epoch 45/100\n",
            "116/116 [==============================] - 0s 2ms/step - loss: 65509996.0000 - accuracy: 0.1429 - val_loss: 58672664.0000 - val_accuracy: 0.1026\n",
            "Epoch 46/100\n",
            "116/116 [==============================] - 0s 2ms/step - loss: 70334360.0000 - accuracy: 0.1407 - val_loss: 62039744.0000 - val_accuracy: 0.1026\n",
            "Epoch 47/100\n",
            "116/116 [==============================] - 0s 3ms/step - loss: 72749168.0000 - accuracy: 0.1518 - val_loss: 65844716.0000 - val_accuracy: 0.1577\n",
            "Epoch 48/100\n",
            "116/116 [==============================] - 0s 3ms/step - loss: 74911552.0000 - accuracy: 0.1402 - val_loss: 68079144.0000 - val_accuracy: 0.3963\n",
            "Epoch 49/100\n",
            "116/116 [==============================] - 0s 2ms/step - loss: 79305896.0000 - accuracy: 0.1356 - val_loss: 71287808.0000 - val_accuracy: 0.3963\n",
            "Epoch 50/100\n",
            "116/116 [==============================] - 0s 2ms/step - loss: 82658608.0000 - accuracy: 0.1478 - val_loss: 73550016.0000 - val_accuracy: 0.3963\n",
            "Epoch 51/100\n",
            "116/116 [==============================] - 0s 3ms/step - loss: 87207264.0000 - accuracy: 0.1515 - val_loss: 77574464.0000 - val_accuracy: 0.3963\n",
            "Epoch 52/100\n",
            "116/116 [==============================] - 0s 3ms/step - loss: 91438392.0000 - accuracy: 0.1442 - val_loss: 81880864.0000 - val_accuracy: 0.3963\n",
            "Epoch 53/100\n",
            "116/116 [==============================] - 0s 3ms/step - loss: 95884208.0000 - accuracy: 0.1424 - val_loss: 84722560.0000 - val_accuracy: 0.3963\n",
            "Epoch 54/100\n",
            "116/116 [==============================] - 0s 4ms/step - loss: 99757120.0000 - accuracy: 0.1456 - val_loss: 88900992.0000 - val_accuracy: 0.3963\n",
            "Epoch 55/100\n",
            "116/116 [==============================] - 0s 4ms/step - loss: 104256400.0000 - accuracy: 0.1475 - val_loss: 91680400.0000 - val_accuracy: 0.3963\n",
            "Epoch 56/100\n",
            "116/116 [==============================] - 0s 4ms/step - loss: 108559880.0000 - accuracy: 0.1442 - val_loss: 95941632.0000 - val_accuracy: 0.0011\n",
            "Epoch 57/100\n",
            "116/116 [==============================] - 0s 4ms/step - loss: 114698592.0000 - accuracy: 0.1415 - val_loss: 100264136.0000 - val_accuracy: 0.3963\n",
            "Epoch 58/100\n",
            "116/116 [==============================] - 0s 4ms/step - loss: 117936592.0000 - accuracy: 0.1437 - val_loss: 102312960.0000 - val_accuracy: 0.0832\n",
            "Epoch 59/100\n",
            "116/116 [==============================] - 0s 4ms/step - loss: 121532520.0000 - accuracy: 0.1394 - val_loss: 107190824.0000 - val_accuracy: 0.3963\n",
            "Epoch 60/100\n",
            "116/116 [==============================] - 0s 4ms/step - loss: 124605592.0000 - accuracy: 0.1434 - val_loss: 111365448.0000 - val_accuracy: 0.3963\n",
            "Epoch 61/100\n",
            "116/116 [==============================] - 0s 4ms/step - loss: 133376704.0000 - accuracy: 0.1453 - val_loss: 116439864.0000 - val_accuracy: 0.3963\n",
            "Epoch 62/100\n",
            "116/116 [==============================] - 0s 4ms/step - loss: 136450240.0000 - accuracy: 0.1464 - val_loss: 120324912.0000 - val_accuracy: 0.1577\n",
            "Epoch 63/100\n",
            "116/116 [==============================] - 1s 5ms/step - loss: 139654208.0000 - accuracy: 0.1496 - val_loss: 125029632.0000 - val_accuracy: 0.3963\n",
            "Epoch 64/100\n",
            "116/116 [==============================] - 0s 4ms/step - loss: 145283920.0000 - accuracy: 0.1340 - val_loss: 129779080.0000 - val_accuracy: 0.3963\n",
            "Epoch 65/100\n",
            "116/116 [==============================] - 0s 3ms/step - loss: 153901360.0000 - accuracy: 0.1459 - val_loss: 134065168.0000 - val_accuracy: 0.3963\n",
            "Epoch 66/100\n",
            "116/116 [==============================] - 0s 3ms/step - loss: 160185504.0000 - accuracy: 0.1410 - val_loss: 138129856.0000 - val_accuracy: 0.0983\n",
            "Epoch 67/100\n",
            "116/116 [==============================] - 0s 2ms/step - loss: 163599840.0000 - accuracy: 0.1532 - val_loss: 142873824.0000 - val_accuracy: 0.0000e+00\n",
            "Epoch 68/100\n",
            "116/116 [==============================] - 0s 3ms/step - loss: 165908528.0000 - accuracy: 0.1375 - val_loss: 147729536.0000 - val_accuracy: 0.3963\n",
            "Epoch 69/100\n",
            "116/116 [==============================] - 0s 3ms/step - loss: 174190528.0000 - accuracy: 0.1461 - val_loss: 153951200.0000 - val_accuracy: 0.1577\n",
            "Epoch 70/100\n",
            "116/116 [==============================] - 0s 2ms/step - loss: 179854080.0000 - accuracy: 0.1448 - val_loss: 160196912.0000 - val_accuracy: 0.3963\n",
            "Epoch 71/100\n",
            "116/116 [==============================] - 0s 3ms/step - loss: 180286544.0000 - accuracy: 0.1483 - val_loss: 165462240.0000 - val_accuracy: 0.3963\n",
            "Epoch 72/100\n",
            "116/116 [==============================] - 0s 3ms/step - loss: 195825584.0000 - accuracy: 0.1364 - val_loss: 169233504.0000 - val_accuracy: 0.3963\n",
            "Epoch 73/100\n",
            "116/116 [==============================] - 0s 3ms/step - loss: 203163392.0000 - accuracy: 0.1464 - val_loss: 174270736.0000 - val_accuracy: 0.3963\n",
            "Epoch 74/100\n",
            "116/116 [==============================] - 0s 3ms/step - loss: 199210208.0000 - accuracy: 0.1372 - val_loss: 179997616.0000 - val_accuracy: 0.3963\n",
            "Epoch 75/100\n",
            "116/116 [==============================] - 0s 3ms/step - loss: 210222352.0000 - accuracy: 0.1448 - val_loss: 186663296.0000 - val_accuracy: 0.3963\n",
            "Epoch 76/100\n",
            "116/116 [==============================] - 0s 3ms/step - loss: 221714208.0000 - accuracy: 0.1434 - val_loss: 191262144.0000 - val_accuracy: 0.0011\n",
            "Epoch 77/100\n",
            "116/116 [==============================] - 0s 3ms/step - loss: 225259104.0000 - accuracy: 0.1356 - val_loss: 197770272.0000 - val_accuracy: 0.3963\n",
            "Epoch 78/100\n",
            "116/116 [==============================] - 0s 3ms/step - loss: 231808048.0000 - accuracy: 0.1361 - val_loss: 202890032.0000 - val_accuracy: 0.1577\n",
            "Epoch 79/100\n",
            "116/116 [==============================] - 0s 3ms/step - loss: 237807584.0000 - accuracy: 0.1329 - val_loss: 208983600.0000 - val_accuracy: 0.3963\n",
            "Epoch 80/100\n",
            "116/116 [==============================] - 0s 3ms/step - loss: 247168368.0000 - accuracy: 0.1413 - val_loss: 215813216.0000 - val_accuracy: 0.3963\n",
            "Epoch 81/100\n",
            "116/116 [==============================] - 0s 3ms/step - loss: 250911680.0000 - accuracy: 0.1386 - val_loss: 220794400.0000 - val_accuracy: 0.3963\n",
            "Epoch 82/100\n",
            "116/116 [==============================] - 0s 3ms/step - loss: 262460464.0000 - accuracy: 0.1380 - val_loss: 227000112.0000 - val_accuracy: 0.3963\n",
            "Epoch 83/100\n",
            "116/116 [==============================] - 0s 2ms/step - loss: 262173216.0000 - accuracy: 0.1426 - val_loss: 233592832.0000 - val_accuracy: 0.0011\n",
            "Epoch 84/100\n",
            "116/116 [==============================] - 0s 2ms/step - loss: 272316352.0000 - accuracy: 0.1353 - val_loss: 240044688.0000 - val_accuracy: 0.1577\n",
            "Epoch 85/100\n",
            "116/116 [==============================] - 0s 2ms/step - loss: 291892640.0000 - accuracy: 0.1378 - val_loss: 246543136.0000 - val_accuracy: 0.3963\n",
            "Epoch 86/100\n",
            "116/116 [==============================] - 0s 3ms/step - loss: 292461600.0000 - accuracy: 0.1437 - val_loss: 254791232.0000 - val_accuracy: 0.3963\n",
            "Epoch 87/100\n",
            "116/116 [==============================] - 0s 3ms/step - loss: 302664096.0000 - accuracy: 0.1429 - val_loss: 261801456.0000 - val_accuracy: 0.0000e+00\n",
            "Epoch 88/100\n",
            "116/116 [==============================] - 0s 3ms/step - loss: 302370208.0000 - accuracy: 0.1551 - val_loss: 269187136.0000 - val_accuracy: 0.3963\n",
            "Epoch 89/100\n",
            "116/116 [==============================] - 0s 3ms/step - loss: 323440928.0000 - accuracy: 0.1410 - val_loss: 275426944.0000 - val_accuracy: 0.3963\n",
            "Epoch 90/100\n",
            "116/116 [==============================] - 0s 2ms/step - loss: 325938464.0000 - accuracy: 0.1507 - val_loss: 281461792.0000 - val_accuracy: 0.3963\n",
            "Epoch 91/100\n",
            "116/116 [==============================] - 0s 3ms/step - loss: 327435008.0000 - accuracy: 0.1451 - val_loss: 287728288.0000 - val_accuracy: 0.1577\n",
            "Epoch 92/100\n",
            "116/116 [==============================] - 0s 3ms/step - loss: 341064352.0000 - accuracy: 0.1283 - val_loss: 297623264.0000 - val_accuracy: 0.3963\n",
            "Epoch 93/100\n",
            "116/116 [==============================] - 0s 3ms/step - loss: 350902592.0000 - accuracy: 0.1359 - val_loss: 304042304.0000 - val_accuracy: 0.3963\n",
            "Epoch 94/100\n",
            "116/116 [==============================] - 0s 3ms/step - loss: 362250368.0000 - accuracy: 0.1391 - val_loss: 312761856.0000 - val_accuracy: 0.3963\n",
            "Epoch 95/100\n",
            "116/116 [==============================] - 0s 3ms/step - loss: 374470720.0000 - accuracy: 0.1372 - val_loss: 320606464.0000 - val_accuracy: 0.0000e+00\n",
            "Epoch 96/100\n",
            "116/116 [==============================] - 0s 3ms/step - loss: 382933888.0000 - accuracy: 0.1451 - val_loss: 328513344.0000 - val_accuracy: 0.3963\n",
            "Epoch 97/100\n",
            "116/116 [==============================] - 0s 4ms/step - loss: 390701920.0000 - accuracy: 0.1386 - val_loss: 335382080.0000 - val_accuracy: 0.3963\n",
            "Epoch 98/100\n",
            "116/116 [==============================] - 0s 4ms/step - loss: 393534464.0000 - accuracy: 0.1448 - val_loss: 343855392.0000 - val_accuracy: 0.0832\n",
            "Epoch 99/100\n",
            "116/116 [==============================] - 0s 4ms/step - loss: 394172064.0000 - accuracy: 0.1545 - val_loss: 350747744.0000 - val_accuracy: 0.0011\n",
            "Epoch 100/100\n",
            "116/116 [==============================] - 0s 4ms/step - loss: 413567648.0000 - accuracy: 0.1440 - val_loss: 358731776.0000 - val_accuracy: 0.3963\n"
          ]
        },
        {
          "output_type": "execute_result",
          "data": {
            "text/plain": [
              "<keras.callbacks.History at 0x7feda5041420>"
            ]
          },
          "metadata": {},
          "execution_count": 16
        }
      ]
    },
    {
      "cell_type": "code",
      "source": [
        "# Evaluate the model on the test data\n",
        "loss, accuracy = model.evaluate(X_test, y_test)\n",
        "print(f\"Test loss:{loss:.4f}\")\n",
        "print(f\"Test accuracy: {accuracy:.4f}\")"
      ],
      "metadata": {
        "colab": {
          "base_uri": "https://localhost:8080/"
        },
        "id": "1kNdN4oaLU6p",
        "outputId": "7731e3a4-9b79-4e92-9670-b5db8b15b5ff"
      },
      "execution_count": 17,
      "outputs": [
        {
          "output_type": "stream",
          "name": "stdout",
          "text": [
            "37/37 [==============================] - 0s 2ms/step - loss: 557795584.0000 - accuracy: 0.3570\n",
            "Test loss:557795584.0000\n",
            "Test accuracy: 0.3570\n"
          ]
        }
      ]
    }
  ]
}