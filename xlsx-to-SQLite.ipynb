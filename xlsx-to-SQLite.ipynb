{
  "cells": [
    {
      "cell_type": "markdown",
      "metadata": {
        "id": "nskyLsaYms5e"
      },
      "source": [
        "# Sección"
      ]
    },
    {
      "attachments": {},
      "cell_type": "markdown",
      "metadata": {},
      "source": [
        "El propósito del código es leer datos de un archivo de Excel, convertirlo a un formato adecuado y luego guardar los datos en una base de datos SQLite y en un archivo JSON."
      ]
    },
    {
      "cell_type": "code",
      "execution_count": null,
      "metadata": {
        "id": "Ubj1T9vwQw0I"
      },
      "outputs": [],
      "source": [
        "# 1. Importar las bibliotecas necesarias:\n",
        "import pandas as pd\n",
        "import numpy as np\n",
        "import json\n",
        "from sqlalchemy import create_engine"
      ]
    },
    {
      "cell_type": "code",
      "execution_count": null,
      "metadata": {
        "id": "qiHFWXoWRMua"
      },
      "outputs": [],
      "source": [
        "# 2. Crear una conexión a la base de datos SQLite `presupuesto.db`:\n",
        "engine = create_engine('sqlite:///presupuesto.db', echo=False)\n",
        "# 3. Leer el archivo de Excel `file.xlsx` y almacenar cada hoja en un DataFrame de pandas en un diccionario llamado `df`:\n",
        "df = pd.read_excel('file.xlsx', sheet_name=None, na_filter=False)"
      ]
    },
    {
      "cell_type": "code",
      "execution_count": null,
      "metadata": {
        "id": "h1IbLqM6TLKO"
      },
      "outputs": [],
      "source": [
        "# 4. Definir la función `cast_for_gsheets` para ajustar el tipo de datos en los DataFrames y guardarlos en la base de datos:\n",
        "\n",
        "def cast_for_gsheets(df):\n",
        "    for key in df.keys():\n",
        "      # Guardar cada DataFrame en una tabla de la base de datos\n",
        "      df[key].to_sql(key, con=engine)\n",
        "\n",
        "      # Rellenar los valores NaN con strings vacías\n",
        "      df[key] = df[key].fillna('')\n",
        "      for column, dt in zip(df[key].columns, df[key].dtypes):\n",
        "          if dt.type not in [\n",
        "              np.int64,\n",
        "              np.float_,\n",
        "              np.bool_,\n",
        "          ]:\n",
        "              # Convertir los valores de las columnas a strings\n",
        "              df[key].loc[:, column] = df[key][column].astype(str)\n",
        "    return df\n"
      ]
    },
    {
      "cell_type": "code",
      "execution_count": null,
      "metadata": {},
      "outputs": [],
      "source": [
        "\n",
        "# 5. Llamar a la función `cast_for_gsheets` y guardar el resultado en un nuevo diccionario `newdf`:\n",
        "newdf = cast_for_gsheets(df)\n",
        "\n",
        "# 6. Convertir cada DataFrame en `newdf` en un diccionario de registros y almacenarlos en un diccionario `data_dict`:\n",
        "data_dict = {\n",
        "    key: newdf[key].to_dict(orient='records') \n",
        "    for key in newdf.keys()\n",
        "}\n",
        "\n",
        "# 7. Escribir el contenido de `data_dict` en un archivo JSON `data_dict.json`:\n",
        "with open('data_dict.json', 'w') as fp:\n",
        "    json.dump(\n",
        "        data_dict,\n",
        "        fp,\n",
        "        indent=4,\n",
        "        sort_keys=True,\n",
        "        ensure_ascii=False\n",
        "    )\n",
        "\n",
        "# 8. Consultar y mostrar los nombres de las tablas en la base de datos SQLite:\n",
        "with engine.begin() as conn:\n",
        "   conn.execute(\"SELECT name FROM sqlite_master WHERE type='table' ORDER BY name;\").fetchall()"
      ]
    }
  ],
  "metadata": {
    "colab": {
      "provenance": []
    },
    "kernelspec": {
      "display_name": "Python 3",
      "name": "python3"
    },
    "language_info": {
      "name": "python"
    }
  },
  "nbformat": 4,
  "nbformat_minor": 0
}
