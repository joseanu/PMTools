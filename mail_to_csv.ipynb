{
  "nbformat": 4,
  "nbformat_minor": 0,
  "metadata": {
    "colab": {
      "provenance": [],
      "authorship_tag": "ABX9TyPQ1VpPFsntcQqaXZRktTeN",
      "include_colab_link": true
    },
    "kernelspec": {
      "name": "python3",
      "display_name": "Python 3"
    },
    "language_info": {
      "name": "python"
    }
  },
  "cells": [
    {
      "cell_type": "markdown",
      "metadata": {
        "id": "view-in-github",
        "colab_type": "text"
      },
      "source": [
        "<a href=\"https://colab.research.google.com/github/joseanu/PMTools/blob/main/mail_to_csv.ipynb\" target=\"_parent\"><img src=\"https://colab.research.google.com/assets/colab-badge.svg\" alt=\"Open In Colab\"/></a>"
      ]
    },
    {
      "cell_type": "code",
      "source": [
        "from google.colab import drive\n",
        "drive.mount('/gdrive')"
      ],
      "metadata": {
        "colab": {
          "base_uri": "https://localhost:8080/"
        },
        "id": "5kEpJ2iugPYo",
        "outputId": "e341fd0d-c079-4b28-d4da-e16cbb1df05b"
      },
      "execution_count": null,
      "outputs": [
        {
          "output_type": "stream",
          "name": "stdout",
          "text": [
            "Drive already mounted at /gdrive; to attempt to forcibly remount, call drive.mount(\"/gdrive\", force_remount=True).\n"
          ]
        }
      ]
    },
    {
      "cell_type": "code",
      "source": [
        "!pip install 'google-api-python-client==1.7.2'\n",
        "!pip install 'google-auth==1.8.0'\n",
        "!pip install 'google-auth-httplib2==0.0.3'\n",
        "!pip install 'google-auth-oauthlib==0.4.1'"
      ],
      "metadata": {
        "colab": {
          "base_uri": "https://localhost:8080/"
        },
        "id": "GJBP1cyo7zFO",
        "outputId": "01aa0df2-5ec3-42b1-dd8d-e64205f1adbc"
      },
      "execution_count": null,
      "outputs": [
        {
          "output_type": "stream",
          "name": "stdout",
          "text": [
            "Looking in indexes: https://pypi.org/simple, https://us-python.pkg.dev/colab-wheels/public/simple/\n",
            "Requirement already satisfied: google-api-python-client==1.7.2 in /usr/local/lib/python3.10/dist-packages (1.7.2)\n",
            "Requirement already satisfied: google-auth-httplib2>=0.0.3 in /usr/local/lib/python3.10/dist-packages (from google-api-python-client==1.7.2) (0.0.3)\n",
            "Requirement already satisfied: google-auth>=1.4.1 in /usr/local/lib/python3.10/dist-packages (from google-api-python-client==1.7.2) (1.8.0)\n",
            "Requirement already satisfied: httplib2<1dev,>=0.9.2 in /usr/local/lib/python3.10/dist-packages (from google-api-python-client==1.7.2) (0.21.0)\n",
            "Requirement already satisfied: six<2dev,>=1.6.1 in /usr/local/lib/python3.10/dist-packages (from google-api-python-client==1.7.2) (1.16.0)\n",
            "Requirement already satisfied: uritemplate<4dev,>=3.0.0 in /usr/local/lib/python3.10/dist-packages (from google-api-python-client==1.7.2) (3.0.1)\n",
            "Requirement already satisfied: pyasn1-modules>=0.2.1 in /usr/local/lib/python3.10/dist-packages (from google-auth>=1.4.1->google-api-python-client==1.7.2) (0.3.0)\n",
            "Requirement already satisfied: rsa<4.1,>=3.1.4 in /usr/local/lib/python3.10/dist-packages (from google-auth>=1.4.1->google-api-python-client==1.7.2) (4.0)\n",
            "Requirement already satisfied: cachetools<3.2,>=2.0.0 in /usr/local/lib/python3.10/dist-packages (from google-auth>=1.4.1->google-api-python-client==1.7.2) (3.1.1)\n",
            "Requirement already satisfied: setuptools>=40.3.0 in /usr/local/lib/python3.10/dist-packages (from google-auth>=1.4.1->google-api-python-client==1.7.2) (67.7.2)\n",
            "Requirement already satisfied: pyparsing!=3.0.0,!=3.0.1,!=3.0.2,!=3.0.3,<4,>=2.4.2 in /usr/local/lib/python3.10/dist-packages (from httplib2<1dev,>=0.9.2->google-api-python-client==1.7.2) (3.0.9)\n",
            "Requirement already satisfied: pyasn1<0.6.0,>=0.4.6 in /usr/local/lib/python3.10/dist-packages (from pyasn1-modules>=0.2.1->google-auth>=1.4.1->google-api-python-client==1.7.2) (0.5.0)\n",
            "Looking in indexes: https://pypi.org/simple, https://us-python.pkg.dev/colab-wheels/public/simple/\n",
            "Requirement already satisfied: google-auth==1.8.0 in /usr/local/lib/python3.10/dist-packages (1.8.0)\n",
            "Requirement already satisfied: pyasn1-modules>=0.2.1 in /usr/local/lib/python3.10/dist-packages (from google-auth==1.8.0) (0.3.0)\n",
            "Requirement already satisfied: cachetools<3.2,>=2.0.0 in /usr/local/lib/python3.10/dist-packages (from google-auth==1.8.0) (3.1.1)\n",
            "Requirement already satisfied: six>=1.9.0 in /usr/local/lib/python3.10/dist-packages (from google-auth==1.8.0) (1.16.0)\n",
            "Requirement already satisfied: setuptools>=40.3.0 in /usr/local/lib/python3.10/dist-packages (from google-auth==1.8.0) (67.7.2)\n",
            "Requirement already satisfied: rsa<4.1,>=3.1.4 in /usr/local/lib/python3.10/dist-packages (from google-auth==1.8.0) (4.0)\n",
            "Requirement already satisfied: pyasn1<0.6.0,>=0.4.6 in /usr/local/lib/python3.10/dist-packages (from pyasn1-modules>=0.2.1->google-auth==1.8.0) (0.5.0)\n",
            "Looking in indexes: https://pypi.org/simple, https://us-python.pkg.dev/colab-wheels/public/simple/\n",
            "Requirement already satisfied: google-auth-httplib2==0.0.3 in /usr/local/lib/python3.10/dist-packages (0.0.3)\n",
            "Requirement already satisfied: httplib2>=0.9.1 in /usr/local/lib/python3.10/dist-packages (from google-auth-httplib2==0.0.3) (0.21.0)\n",
            "Requirement already satisfied: google-auth in /usr/local/lib/python3.10/dist-packages (from google-auth-httplib2==0.0.3) (1.8.0)\n",
            "Requirement already satisfied: pyparsing!=3.0.0,!=3.0.1,!=3.0.2,!=3.0.3,<4,>=2.4.2 in /usr/local/lib/python3.10/dist-packages (from httplib2>=0.9.1->google-auth-httplib2==0.0.3) (3.0.9)\n",
            "Requirement already satisfied: pyasn1-modules>=0.2.1 in /usr/local/lib/python3.10/dist-packages (from google-auth->google-auth-httplib2==0.0.3) (0.3.0)\n",
            "Requirement already satisfied: six>=1.9.0 in /usr/local/lib/python3.10/dist-packages (from google-auth->google-auth-httplib2==0.0.3) (1.16.0)\n",
            "Requirement already satisfied: rsa<4.1,>=3.1.4 in /usr/local/lib/python3.10/dist-packages (from google-auth->google-auth-httplib2==0.0.3) (4.0)\n",
            "Requirement already satisfied: cachetools<3.2,>=2.0.0 in /usr/local/lib/python3.10/dist-packages (from google-auth->google-auth-httplib2==0.0.3) (3.1.1)\n",
            "Requirement already satisfied: setuptools>=40.3.0 in /usr/local/lib/python3.10/dist-packages (from google-auth->google-auth-httplib2==0.0.3) (67.7.2)\n",
            "Requirement already satisfied: pyasn1<0.6.0,>=0.4.6 in /usr/local/lib/python3.10/dist-packages (from pyasn1-modules>=0.2.1->google-auth->google-auth-httplib2==0.0.3) (0.5.0)\n",
            "Looking in indexes: https://pypi.org/simple, https://us-python.pkg.dev/colab-wheels/public/simple/\n",
            "Requirement already satisfied: google-auth-oauthlib==0.4.1 in /usr/local/lib/python3.10/dist-packages (0.4.1)\n",
            "Requirement already satisfied: requests-oauthlib>=0.7.0 in /usr/local/lib/python3.10/dist-packages (from google-auth-oauthlib==0.4.1) (1.3.1)\n",
            "Requirement already satisfied: google-auth in /usr/local/lib/python3.10/dist-packages (from google-auth-oauthlib==0.4.1) (1.8.0)\n",
            "Requirement already satisfied: oauthlib>=3.0.0 in /usr/local/lib/python3.10/dist-packages (from requests-oauthlib>=0.7.0->google-auth-oauthlib==0.4.1) (3.2.2)\n",
            "Requirement already satisfied: requests>=2.0.0 in /usr/local/lib/python3.10/dist-packages (from requests-oauthlib>=0.7.0->google-auth-oauthlib==0.4.1) (2.27.1)\n",
            "Requirement already satisfied: cachetools<3.2,>=2.0.0 in /usr/local/lib/python3.10/dist-packages (from google-auth->google-auth-oauthlib==0.4.1) (3.1.1)\n",
            "Requirement already satisfied: six>=1.9.0 in /usr/local/lib/python3.10/dist-packages (from google-auth->google-auth-oauthlib==0.4.1) (1.16.0)\n",
            "Requirement already satisfied: setuptools>=40.3.0 in /usr/local/lib/python3.10/dist-packages (from google-auth->google-auth-oauthlib==0.4.1) (67.7.2)\n",
            "Requirement already satisfied: rsa<4.1,>=3.1.4 in /usr/local/lib/python3.10/dist-packages (from google-auth->google-auth-oauthlib==0.4.1) (4.0)\n",
            "Requirement already satisfied: pyasn1-modules>=0.2.1 in /usr/local/lib/python3.10/dist-packages (from google-auth->google-auth-oauthlib==0.4.1) (0.3.0)\n",
            "Requirement already satisfied: pyasn1<0.6.0,>=0.4.6 in /usr/local/lib/python3.10/dist-packages (from pyasn1-modules>=0.2.1->google-auth->google-auth-oauthlib==0.4.1) (0.5.0)\n",
            "Requirement already satisfied: certifi>=2017.4.17 in /usr/local/lib/python3.10/dist-packages (from requests>=2.0.0->requests-oauthlib>=0.7.0->google-auth-oauthlib==0.4.1) (2022.12.7)\n",
            "Requirement already satisfied: charset-normalizer~=2.0.0 in /usr/local/lib/python3.10/dist-packages (from requests>=2.0.0->requests-oauthlib>=0.7.0->google-auth-oauthlib==0.4.1) (2.0.12)\n",
            "Requirement already satisfied: urllib3<1.27,>=1.21.1 in /usr/local/lib/python3.10/dist-packages (from requests>=2.0.0->requests-oauthlib>=0.7.0->google-auth-oauthlib==0.4.1) (1.26.15)\n",
            "Requirement already satisfied: idna<4,>=2.5 in /usr/local/lib/python3.10/dist-packages (from requests>=2.0.0->requests-oauthlib>=0.7.0->google-auth-oauthlib==0.4.1) (3.4)\n"
          ]
        }
      ]
    },
    {
      "cell_type": "code",
      "execution_count": null,
      "metadata": {
        "id": "m6gi-bmB2K6e"
      },
      "outputs": [],
      "source": [
        "import os\n",
        "from google.oauth2.credentials import Credentials\n",
        "from google_auth_oauthlib.flow import InstalledAppFlow\n",
        "from google.auth.transport.requests import Request\n",
        "from google_auth_httplib2 import AuthorizedHttp\n",
        "from googleapiclient.errors import HttpError\n",
        "import google.auth.exceptions\n",
        "from googleapiclient.discovery import build\n",
        "import base64\n",
        "import csv\n",
        "import httplib2\n",
        "\n",
        "# If modifying these scopes, delete the file token.json.\n",
        "SCOPES = ['https://mail.google.com/']\n",
        "our_email = 'joseanu@gmail.com'"
      ]
    },
    {
      "cell_type": "code",
      "source": [
        "creds = None\n",
        "# The file token.json stores the user's access and refresh tokens, and is\n",
        "# created automatically when the authorization flow completes for the first\n",
        "# time.\n",
        "if os.path.exists('/gdrive/My Drive/token.json'):\n",
        "    try:\n",
        "        creds = Credentials.from_authorized_user_file('/gdrive/My Drive/token.json', SCOPES)\n",
        "        creds.refresh(Request())\n",
        "    except google.auth.exceptions.RefreshError as error:\n",
        "        # if refresh token fails, reset creds to none.\n",
        "        creds = None\n",
        "        print(f'An error occurred: {error}')\n",
        "# If there are no (valid) credentials available, let the user log in.\n",
        "if not creds or not creds.valid:\n",
        "    if creds and creds.expired and creds.refresh_token:\n",
        "        creds.refresh(Request())\n",
        "    else:\n",
        "        flow = InstalledAppFlow.from_client_secrets_file(\n",
        "            '/gdrive/My Drive/client_secret.json', SCOPES)\n",
        "        # creds = flow.run_local_server(port=0)\n",
        "        creds = flow.run_console()\n",
        "    # Save the credentials for the next run\n",
        "    with open('/gdrive/My Drive/token.json', 'w') as token:\n",
        "        token.write(creds.to_json())\n"
      ],
      "metadata": {
        "id": "Jyk4CIMtgttg"
      },
      "execution_count": null,
      "outputs": []
    },
    {
      "cell_type": "code",
      "source": [
        "http = AuthorizedHttp(creds, http=httplib2.Http(timeout=120))\n",
        "service = build(\"gmail\", \"v1\", http=http)\n",
        "\n",
        "  "
      ],
      "metadata": {
        "id": "9qYOKA_o4cYT"
      },
      "execution_count": null,
      "outputs": []
    },
    {
      "cell_type": "code",
      "source": [
        "# Set the label names you want to search for\n",
        "label_names = [\n",
        "    'RED'\n",
        "]  # Replace with your desired label IDs"
      ],
      "metadata": {
        "id": "_qaeycin3x1s"
      },
      "execution_count": null,
      "outputs": []
    },
    {
      "cell_type": "code",
      "source": [
        "def get_label_name_dict(service):\n",
        "    labels = service.users().labels().list(userId='me').execute().get('labels', [])\n",
        "    label_name_dict = {label['id']: label['name'] for label in labels}\n",
        "    return label_name_dict\n",
        "\n",
        "\n",
        "def get_email_body(payload):\n",
        "    if 'parts' in payload:\n",
        "        parts = payload['parts']\n",
        "        for part in parts:\n",
        "            if part['mimeType'] == 'text/plain':\n",
        "                data = part['body'].get('data')\n",
        "                if data:\n",
        "                    return base64.urlsafe_b64decode(data).decode('utf-8')\n",
        "            else:\n",
        "                body = get_email_body(part)\n",
        "                if body:\n",
        "                    return body\n",
        "    elif payload['mimeType'] == 'text/plain':\n",
        "        data = payload['body'].get('data')\n",
        "        if data:\n",
        "            return base64.urlsafe_b64decode(data).decode('utf-8')\n",
        "    return None\n",
        "\n",
        "\n",
        "def save_emails_to_csv(service, label_names, filename):\n",
        "    try:\n",
        "        label_names_str = ' OR '.join([f\"label:{label_name}\" for label_name in label_names])\n",
        "        query = f\"{label_names_str}\"\n",
        "        print(query)\n",
        "\n",
        "        response = service.users().messages().list(userId='me', q=query).execute()\n",
        "        messages = []\n",
        "\n",
        "        if 'messages' in response:\n",
        "            messages.extend(response['messages'])\n",
        "\n",
        "        while 'nextPageToken' in response:\n",
        "            print(f'Fetching more emails...')\n",
        "            page_token = response['nextPageToken']\n",
        "            response = service.users().messages().list(userId='me', q=query, pageToken=page_token).execute()\n",
        "            if 'messages' in response:\n",
        "                messages.extend(response['messages'])\n",
        "\n",
        "        print(f'Total emails: {len(messages)}')\n",
        "\n",
        "        with open(filename, 'w', newline='', encoding='utf-8') as csvfile:\n",
        "            fieldnames = ['Subject', 'From', 'Date', 'To', 'Cc', 'Bcc', 'Message-ID', 'In-Reply-To', 'References',\n",
        "                          'Labels', 'Thread ID', 'Attachments', 'Body']\n",
        "            writer = csv.DictWriter(csvfile, fieldnames=fieldnames)\n",
        "            writer.writeheader()\n",
        "\n",
        "            for message in messages:\n",
        "                msg = service.users().messages().get(userId='me', id=message['id'], format='full').execute()\n",
        "                headers = msg['payload']['headers']\n",
        "                parts = msg['payload'].get('parts')\n",
        "\n",
        "                attachments = []\n",
        "                if parts:\n",
        "                    for part in parts:\n",
        "                        filename = part.get('filename')\n",
        "                        if filename:\n",
        "                            attachments.append(filename)\n",
        "\n",
        "                email_data = {name: '' for name in fieldnames}\n",
        "                email_data['Attachments'] = ', '.join(attachments)\n",
        "                email_data['Thread ID'] = msg.get('threadId', '')\n",
        "\n",
        "                for header in headers:\n",
        "                    if header['name'] in fieldnames:\n",
        "                        email_data[header['name']] = header['value']\n",
        "\n",
        "                email_data['Body'] = get_email_body(msg['payload'])\n",
        "\n",
        "                label_name_dict = get_label_name_dict(service)\n",
        "                email_data['Labels'] = [label_name_dict.get(label_id, label_id) for label_id in msg.get('labelIds', [])]\n",
        "\n",
        "                writer.writerow(email_data)\n",
        "\n",
        "    except HttpError as error:\n",
        "        print(f'An error occurred: {error}')"
      ],
      "metadata": {
        "id": "m5kP1tBN_wjE"
      },
      "execution_count": null,
      "outputs": []
    },
    {
      "cell_type": "code",
      "source": [
        "save_emails_to_csv(service, label_names, 'emails.csv')"
      ],
      "metadata": {
        "colab": {
          "base_uri": "https://localhost:8080/"
        },
        "id": "3MbIIkIyvV-5",
        "outputId": "16a12608-5a6b-466b-a79d-cd09355b3b8e"
      },
      "execution_count": null,
      "outputs": [
        {
          "output_type": "stream",
          "name": "stdout",
          "text": [
            "label:RED\n",
            "Fetching more emails...\n",
            "Fetching more emails...\n",
            "Fetching more emails...\n",
            "Fetching more emails...\n",
            "Fetching more emails...\n",
            "Fetching more emails...\n",
            "Fetching more emails...\n",
            "Fetching more emails...\n",
            "Fetching more emails...\n",
            "Fetching more emails...\n",
            "Fetching more emails...\n",
            "Fetching more emails...\n",
            "Fetching more emails...\n",
            "Fetching more emails...\n",
            "Fetching more emails...\n",
            "Fetching more emails...\n",
            "Fetching more emails...\n",
            "Fetching more emails...\n",
            "Fetching more emails...\n",
            "Fetching more emails...\n",
            "Fetching more emails...\n",
            "Fetching more emails...\n",
            "Fetching more emails...\n",
            "Fetching more emails...\n",
            "Fetching more emails...\n",
            "Fetching more emails...\n",
            "Fetching more emails...\n",
            "Fetching more emails...\n",
            "Fetching more emails...\n",
            "Fetching more emails...\n",
            "Fetching more emails...\n",
            "Fetching more emails...\n",
            "Fetching more emails...\n",
            "Fetching more emails...\n",
            "Fetching more emails...\n",
            "Fetching more emails...\n",
            "Fetching more emails...\n",
            "Fetching more emails...\n",
            "Fetching more emails...\n",
            "Fetching more emails...\n",
            "Fetching more emails...\n",
            "Fetching more emails...\n",
            "Fetching more emails...\n",
            "Fetching more emails...\n",
            "Fetching more emails...\n",
            "Fetching more emails...\n",
            "Fetching more emails...\n",
            "Fetching more emails...\n",
            "Fetching more emails...\n",
            "Fetching more emails...\n",
            "Fetching more emails...\n",
            "Fetching more emails...\n",
            "Fetching more emails...\n",
            "Fetching more emails...\n",
            "Fetching more emails...\n",
            "Fetching more emails...\n",
            "Fetching more emails...\n",
            "Fetching more emails...\n",
            "Fetching more emails...\n",
            "Fetching more emails...\n",
            "Fetching more emails...\n",
            "Fetching more emails...\n",
            "Fetching more emails...\n",
            "Fetching more emails...\n",
            "Fetching more emails...\n",
            "Fetching more emails...\n",
            "Fetching more emails...\n",
            "Fetching more emails...\n",
            "Fetching more emails...\n",
            "Fetching more emails...\n",
            "Fetching more emails...\n",
            "Fetching more emails...\n",
            "Fetching more emails...\n",
            "Fetching more emails...\n",
            "Fetching more emails...\n",
            "Fetching more emails...\n",
            "Fetching more emails...\n",
            "Fetching more emails...\n",
            "Fetching more emails...\n",
            "Fetching more emails...\n",
            "Fetching more emails...\n",
            "Fetching more emails...\n",
            "Fetching more emails...\n",
            "Fetching more emails...\n",
            "Fetching more emails...\n",
            "Fetching more emails...\n",
            "Fetching more emails...\n",
            "Fetching more emails...\n",
            "Fetching more emails...\n",
            "Fetching more emails...\n",
            "Fetching more emails...\n",
            "Fetching more emails...\n",
            "Fetching more emails...\n",
            "Fetching more emails...\n",
            "Fetching more emails...\n",
            "Fetching more emails...\n",
            "Total emails: 9641\n"
          ]
        }
      ]
    }
  ]
}